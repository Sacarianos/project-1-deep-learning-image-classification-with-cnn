{
 "cells": [
  {
   "cell_type": "markdown",
   "metadata": {},
   "source": [
    "## * Proyecto 2 Deep Learning: *\n",
    "    Convolutional Neural Network "
   ]
  },
  {
   "cell_type": "code",
   "execution_count": null,
   "metadata": {},
   "outputs": [],
   "source": [
    "import numpy as np\n",
    "import matplotlib.pyplot as plt\n",
    "from tensorflow.keras.datasets import cifar10\n",
    "from tensorflow.keras.utils import to_categorical\n",
    "\n",
    "# Load CIFAR-10 dataset\n",
    "\n",
    "(x_train, y_train), (x_test, y_test) = cifar10.load_data()"
   ]
  },
  {
   "cell_type": "markdown",
   "metadata": {},
   "source": [
    "Downloading data from https://www.cs.toronto.edu/~kriz/cifar-10-python.tar.gz\n",
    "170498071/170498071 ━━━━━━━━━━━━━━━━━━━━ 4s 0us/step"
   ]
  },
  {
   "cell_type": "code",
   "execution_count": null,
   "metadata": {},
   "outputs": [],
   "source": [
    "import numpy as np\n",
    "import matplotlib.pyplot as plt\n",
    "from tensorflow.keras.datasets import cifar10\n",
    "from tensorflow.keras.utils import to_categorical\n",
    "from tensorflow import keras\n",
    "import pickle\n",
    "\n",
    "# Load CIFAR-10 dataset\n",
    "(x_train, y_train), (x_test, y_test) = cifar10.load_data()\n",
    "\n",
    "# Visualize the images in CIFAR-10 dataset. Create a 10 x 10 plot showing 10 random samples from each class.\n",
    "fig, axes = plt.subplots(10, 10, figsize=(10, 10))\n",
    "for i in range(10):\n",
    "    for j in range(10):\n",
    "        axes[i,j].imshow(x_train[np.random.choice(np.where(y_train == i)[0])])\n",
    "        axes[i,j].axis('off')\n",
    "plt.show()"
   ]
  },
  {
   "cell_type": "markdown",
   "metadata": {},
   "source": [
    "foto 10 x 10"
   ]
  },
  {
   "cell_type": "markdown",
   "metadata": {},
   "source": [
    "use trasnfer learning to make the prediction"
   ]
  },
  {
   "cell_type": "code",
   "execution_count": null,
   "metadata": {},
   "outputs": [],
   "source": [
    "from tensorflow.keras.applications import VGG16\n",
    "# Preprocess the data\n",
    "x_train = x_train.astype('float32') / 255.0\n",
    "x_test = x_test.astype('float32') / 255.0\n",
    "y_train = to_categorical(y_train, num_classes=10)\n",
    "y_test = to_categorical(y_test, num_classes=10)\n",
    "\n",
    "# Load pre-trained VGG16 model (excluding the top classification layer)\n",
    "base_model = VGG16(weights='imagenet', include_top=False, input_shape=(32, 32, 3))\n",
    "\n",
    "# Freeze the base model layers\n",
    "for layer in base_model.layers:\n",
    "    layer.trainable = False\n",
    "\n",
    "# Add custom classification layers\n",
    "x = base_model.output\n",
    "x = keras.layers.GlobalAveragePooling2D()(x)\n",
    "x = keras.layers.Dense(256, activation='relu')(x)\n",
    "predictions = keras.layers.Dense(10, activation='softmax')(x)  # Output layer with 10 classes\n",
    "\n",
    "# Create the final model\n",
    "model = keras.models.Model(inputs=base_model.input, outputs=predictions)\n",
    "\n",
    "# Compile the model\n",
    "model.compile(optimizer='adam', loss='categorical_crossentropy', metrics=['accuracy'])\n",
    "\n",
    "# Train the model\n",
    "model.fit(x_train, y_train, epochs=10, batch_size=32, validation_data=(x_test, y_test)) # Reduced epochs for demonstration\n",
    "\n",
    "# Evaluate the model\n",
    "loss, accuracy = model.evaluate(x_test, y_test)\n",
    "print(f'Test Loss: {loss}')\n",
    "print(f'Test Accuracy: {accuracy}')\n",
    "\n",
    "# Make predictions\n",
    "predictions = model.predict(x_test)\n",
    "\n",
    "# Example: Print the predicted class for the first test image\n",
    "predicted_class = np.argmax(predictions[0])\n",
    "print(f'Predicted class for the first image: {predicted_class}')"
   ]
  },
  {
   "cell_type": "markdown",
   "metadata": {},
   "source": [
    "Downloading data from https://storage.googleapis.com/tensorflow/keras-applications/vgg16/vgg16_weights_tf_dim_ordering_tf_kernels_notop.h5\n",
    "58889256/58889256 ━━━━━━━━━━━━━━━━━━━━ 0s 0us/step\n",
    "Epoch 1/10\n",
    "1563/1563 ━━━━━━━━━━━━━━━━━━━━ 710s 454ms/step - accuracy: 0.4793 - loss: 1.4836 - val_accuracy: 0.5715 - val_loss: 1.2291\n",
    "Epoch 2/10\n",
    "1563/1563 ━━━━━━━━━━━━━━━━━━━━ 702s 428ms/step - accuracy: 0.5886 - loss: 1.1760 - val_accuracy: 0.5894 - val_loss: 1.1750\n",
    "Epoch 3/10\n",
    "1563/1563 ━━━━━━━━━━━━━━━━━━━━ 701s 449ms/step - accuracy: 0.6119 - loss: 1.1067 - val_accuracy: 0.5985 - val_loss: 1.1449\n",
    "Epoch 4/10\n",
    "1563/1563 ━━━━━━━━━━━━━━━━━━━━ 708s 427ms/step - accuracy: 0.6322 - loss: 1.0476 - val_accuracy: 0.5994 - val_loss: 1.1456\n",
    "Epoch 5/10\n",
    "1563/1563 ━━━━━━━━━━━━━━━━━━━━ 668s 428ms/step - accuracy: 0.6489 - loss: 0.9978 - val_accuracy: 0.6071 - val_loss: 1.1292\n",
    "Epoch 6/10\n",
    "1563/1563 ━━━━━━━━━━━━━━━━━━━━ 680s 426ms/step - accuracy: 0.6630 - loss: 0.9605 - val_accuracy: 0.6056 - val_loss: 1.1200\n",
    "Epoch 7/10\n",
    "1563/1563 ━━━━━━━━━━━━━━━━━━━━ 682s 426ms/step - accuracy: 0.6788 - loss: 0.9163 - val_accuracy: 0.6187 - val_loss: 1.0940\n",
    "Epoch 8/10\n",
    "1563/1563 ━━━━━━━━━━━━━━━━━━━━ 668s 427ms/step - accuracy: 0.6893 - loss: 0.8858 - val_accuracy: 0.6173 - val_loss: 1.1033\n",
    "Epoch 9/10\n",
    "1563/1563 ━━━━━━━━━━━━━━━━━━━━ 681s 427ms/step - accuracy: 0.6951 - loss: 0.8617 - val_accuracy: 0.6211 - val_loss: 1.1224\n",
    "Epoch 10/10\n",
    "1563/1563 ━━━━━━━━━━━━━━━━━━━━ 673s 430ms/step - accuracy: 0.7103 - loss: 0.8279 - val_accuracy: 0.6097 - val_loss: 1.1356\n",
    "313/313 ━━━━━━━━━━━━━━━━━━━━ 114s 366ms/step - accuracy: 0.6066 - loss: 1.1331\n",
    "Test Loss: 1.1356409788131714\n",
    "Test Accuracy: 0.6097000241279602\n",
    "313/313 ━━━━━━━━━━━━━━━━━━━━ 111s 355ms/step\n",
    "Predicted class for the first image: 3"
   ]
  },
  {
   "cell_type": "markdown",
   "metadata": {},
   "source": [
    "Define the following model"
   ]
  },
  {
   "cell_type": "code",
   "execution_count": null,
   "metadata": {},
   "outputs": [],
   "source": [
    "# build a Convolutional Neural Network (CNN) model to classify images from a given dataset into predefined categories/classes.\n",
    "\n",
    "import tensorflow as tf\n",
    "from tensorflow import keras\n",
    "from tensorflow.keras import layers\n",
    "\n",
    "# Define the CNN model\n",
    "def create_model(input_shape, num_classes):\n",
    "    model = keras.Sequential(\n",
    "        [\n",
    "            keras.Input(shape=input_shape),\n",
    "            layers.Conv2D(32, kernel_size=(3, 3), activation=\"relu\"),\n",
    "            layers.MaxPooling2D(pool_size=(2, 2)),\n",
    "            layers.Conv2D(64, kernel_size=(3, 3), activation=\"relu\"),\n",
    "            layers.MaxPooling2D(pool_size=(2, 2)),\n",
    "            layers.Flatten(),\n",
    "            layers.Dropout(0.5),\n",
    "            layers.Dense(num_classes, activation=\"softmax\"),\n",
    "        ]\n",
    "    )\n",
    "    return model\n",
    "\n",
    "# Example usage\n",
    "input_shape = (28, 28, 1)  # Example input shape (adjust for your dataset)\n",
    "num_classes = 10        # Example number of classes (adjust for your dataset)\n",
    "model = create_model(input_shape, num_classes)\n",
    "\n",
    "# Compile the model\n",
    "model.compile(loss=\"categorical_crossentropy\", optimizer=\"adam\", metrics=[\"accuracy\"])\n",
    "\n",
    "# Print model summary\n",
    "model.summary()"
   ]
  },
  {
   "cell_type": "markdown",
   "metadata": {},
   "source": [
    "Model: \"sequential\"\n",
    "┏━━━━━━━━━━━━━━━━━━━━━━━━━━━━━━━━━━━━━━┳━━━━━━━━━━━━━━━━━━━━━━━━━━━━━┳━━━━━━━━━━━━━━━━━┓\n",
    "┃ Layer (type)                         ┃ Output Shape                ┃         Param # ┃\n",
    "┡━━━━━━━━━━━━━━━━━━━━━━━━━━━━━━━━━━━━━━╇━━━━━━━━━━━━━━━━━━━━━━━━━━━━━╇━━━━━━━━━━━━━━━━━┩\n",
    "│ conv2d (Conv2D)                      │ (None, 26, 26, 32)          │             320 │\n",
    "├──────────────────────────────────────┼─────────────────────────────┼─────────────────┤\n",
    "│ max_pooling2d (MaxPooling2D)         │ (None, 13, 13, 32)          │               0 │\n",
    "├──────────────────────────────────────┼─────────────────────────────┼─────────────────┤\n",
    "│ conv2d_1 (Conv2D)                    │ (None, 11, 11, 64)          │          18,496 │\n",
    "├──────────────────────────────────────┼─────────────────────────────┼─────────────────┤\n",
    "│ max_pooling2d_1 (MaxPooling2D)       │ (None, 5, 5, 64)            │               0 │\n",
    "├──────────────────────────────────────┼─────────────────────────────┼─────────────────┤\n",
    "│ flatten (Flatten)                    │ (None, 1600)                │               0 │\n",
    "├──────────────────────────────────────┼─────────────────────────────┼─────────────────┤\n",
    "│ dropout (Dropout)                    │ (None, 1600)                │               0 │\n",
    "├──────────────────────────────────────┼─────────────────────────────┼─────────────────┤\n",
    "│ dense_2 (Dense)                      │ (None, 10)                  │          16,010 │\n",
    "└──────────────────────────────────────┴─────────────────────────────┴─────────────────┘\n",
    " Total params: 34,826 (136.04 KB)\n",
    " Trainable params: 34,826 (136.04 KB)\n",
    " Non-trainable params: 0 (0.00 B)"
   ]
  },
  {
   "cell_type": "code",
   "execution_count": null,
   "metadata": {},
   "outputs": [],
   "source": [
    "# prompt: Compile the model using categorical_crossentropy loss, SGD optimizer and use 'accuracy' as the metric.\n",
    "\n",
    "# Compile the model\n",
    "model.compile(loss='categorical_crossentropy', optimizer='sgd', metrics=['accuracy'])\n",
    "\n",
    "\n",
    "\n",
    "# Load and pre-process your dataset (replace with your actual data loading)\n",
    "# ... (Data loading and preprocessing code) ...\n",
    "# Example using MNIST dataset:\n",
    "(x_train, y_train), (x_test, y_test) = keras.datasets.mnist.load_data()\n",
    "x_train = x_train.astype(\"float32\") / 255.0\n",
    "x_test = x_test.astype(\"float32\") / 255.0\n",
    "x_train = x_train.reshape(-1, 28, 28, 1)\n",
    "x_test = x_test.reshape(-1, 28, 28, 1)\n",
    "y_train = keras.utils.to_categorical(y_train, num_classes)\n",
    "y_test = keras.utils.to_categorical(y_test, num_classes)\n",
    "\n",
    "\n",
    "# Train the model\n",
    "model.fit(x_train, y_train, epochs=10, batch_size=32, validation_split = 0.1)\n",
    "\n",
    "# Evaluate the model\n",
    "loss, accuracy = model.evaluate(x_test, y_test)\n",
    "print(f\"Test Loss: {loss:.4f}\")\n",
    "print(f\"Test Accuracy: {accuracy:.4f}\")"
   ]
  },
  {
   "cell_type": "markdown",
   "metadata": {},
   "source": [
    "Downloading data from https://storage.googleapis.com/tensorflow/tf-keras-datasets/mnist.npz\n",
    "11490434/11490434 ━━━━━━━━━━━━━━━━━━━━ 0s 0us/step\n",
    "Epoch 1/10\n",
    "1688/1688 ━━━━━━━━━━━━━━━━━━━━ 46s 27ms/step - accuracy: 0.5745 - loss: 1.2753 - val_accuracy: 0.9560 - val_loss: 0.1702\n",
    "Epoch 2/10\n",
    "1688/1688 ━━━━━━━━━━━━━━━━━━━━ 46s 27ms/step - accuracy: 0.9232 - loss: 0.2553 - val_accuracy: 0.9692 - val_loss: 0.1142\n",
    "Epoch 3/10\n",
    "1688/1688 ━━━━━━━━━━━━━━━━━━━━ 43s 26ms/step - accuracy: 0.9446 - loss: 0.1812 - val_accuracy: 0.9738 - val_loss: 0.0968\n",
    "Epoch 4/10\n",
    "1688/1688 ━━━━━━━━━━━━━━━━━━━━ 84s 27ms/step - accuracy: 0.9539 - loss: 0.1496 - val_accuracy: 0.9783 - val_loss: 0.0806\n",
    "Epoch 5/10\n",
    "1688/1688 ━━━━━━━━━━━━━━━━━━━━ 46s 27ms/step - accuracy: 0.9590 - loss: 0.1322 - val_accuracy: 0.9788 - val_loss: 0.0754\n",
    "Epoch 6/10\n",
    "1688/1688 ━━━━━━━━━━━━━━━━━━━━ 81s 27ms/step - accuracy: 0.9640 - loss: 0.1179 - val_accuracy: 0.9808 - val_loss: 0.0698\n",
    "Epoch 7/10\n",
    "1688/1688 ━━━━━━━━━━━━━━━━━━━━ 45s 27ms/step - accuracy: 0.9666 - loss: 0.1086 - val_accuracy: 0.9828 - val_loss: 0.0650\n",
    "Epoch 8/10\n",
    "1688/1688 ━━━━━━━━━━━━━━━━━━━━ 43s 26ms/step - accuracy: 0.9677 - loss: 0.1023 - val_accuracy: 0.9842 - val_loss: 0.0595\n",
    "Epoch 9/10\n",
    "1688/1688 ━━━━━━━━━━━━━━━━━━━━ 47s 28ms/step - accuracy: 0.9696 - loss: 0.0998 - val_accuracy: 0.9843 - val_loss: 0.0582\n",
    "Epoch 10/10\n",
    "1688/1688 ━━━━━━━━━━━━━━━━━━━━ 81s 27ms/step - accuracy: 0.9705 - loss: 0.0919 - val_accuracy: 0.9862 - val_loss: 0.0545\n",
    "313/313 ━━━━━━━━━━━━━━━━━━━━ 2s 7ms/step - accuracy: 0.9793 - loss: 0.0640\n",
    "Test Loss: 0.0533\n",
    "Test Accuracy: 0.9832"
   ]
  }
 ],
 "metadata": {
  "language_info": {
   "name": "python"
  }
 },
 "nbformat": 4,
 "nbformat_minor": 2
}
